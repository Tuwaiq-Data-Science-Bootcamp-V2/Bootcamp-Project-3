{
 "cells": [
  {
   "cell_type": "code",
   "execution_count": 1,
   "id": "9cd853cd",
   "metadata": {},
   "outputs": [],
   "source": [
    "import pandas as pd\n",
    "import numpy as np\n",
    "import math\n",
    "import plotly.express as px\n",
    "import seaborn as sns\n",
    "from plotly.subplots import make_subplots"
   ]
  },
  {
   "cell_type": "markdown",
   "id": "4454e437",
   "metadata": {},
   "source": [
    "### To show all columns"
   ]
  },
  {
   "cell_type": "code",
   "execution_count": 2,
   "id": "02730947",
   "metadata": {},
   "outputs": [],
   "source": [
    "pd.set_option('display.max_columns', None)"
   ]
  },
  {
   "cell_type": "markdown",
   "id": "c2a9de10",
   "metadata": {},
   "source": [
    "### Read data"
   ]
  },
  {
   "cell_type": "code",
   "execution_count": 3,
   "id": "f04932ef",
   "metadata": {},
   "outputs": [
    {
     "ename": "FileNotFoundError",
     "evalue": "[Errno 2] No such file or directory: 'RiyadhVillasAqar.csv'",
     "output_type": "error",
     "traceback": [
      "\u001b[0;31m---------------------------------------------------------------------------\u001b[0m",
      "\u001b[0;31mFileNotFoundError\u001b[0m                         Traceback (most recent call last)",
      "\u001b[0;32m/var/folders/nh/w2dzt3d912bdv0869tm449_r0000gn/T/ipykernel_64722/3837111826.py\u001b[0m in \u001b[0;36m<module>\u001b[0;34m\u001b[0m\n\u001b[0;32m----> 1\u001b[0;31m \u001b[0mdata\u001b[0m \u001b[0;34m=\u001b[0m \u001b[0mpd\u001b[0m\u001b[0;34m.\u001b[0m\u001b[0mread_csv\u001b[0m\u001b[0;34m(\u001b[0m\u001b[0;34m'RiyadhVillasAqar.csv'\u001b[0m\u001b[0;34m,\u001b[0m\u001b[0mlow_memory\u001b[0m\u001b[0;34m=\u001b[0m\u001b[0;32mFalse\u001b[0m\u001b[0;34m)\u001b[0m\u001b[0;34m\u001b[0m\u001b[0;34m\u001b[0m\u001b[0m\n\u001b[0m",
      "\u001b[0;32m/opt/anaconda3/lib/python3.9/site-packages/pandas/util/_decorators.py\u001b[0m in \u001b[0;36mwrapper\u001b[0;34m(*args, **kwargs)\u001b[0m\n\u001b[1;32m    309\u001b[0m                     \u001b[0mstacklevel\u001b[0m\u001b[0;34m=\u001b[0m\u001b[0mstacklevel\u001b[0m\u001b[0;34m,\u001b[0m\u001b[0;34m\u001b[0m\u001b[0;34m\u001b[0m\u001b[0m\n\u001b[1;32m    310\u001b[0m                 )\n\u001b[0;32m--> 311\u001b[0;31m             \u001b[0;32mreturn\u001b[0m \u001b[0mfunc\u001b[0m\u001b[0;34m(\u001b[0m\u001b[0;34m*\u001b[0m\u001b[0margs\u001b[0m\u001b[0;34m,\u001b[0m \u001b[0;34m**\u001b[0m\u001b[0mkwargs\u001b[0m\u001b[0;34m)\u001b[0m\u001b[0;34m\u001b[0m\u001b[0;34m\u001b[0m\u001b[0m\n\u001b[0m\u001b[1;32m    312\u001b[0m \u001b[0;34m\u001b[0m\u001b[0m\n\u001b[1;32m    313\u001b[0m         \u001b[0;32mreturn\u001b[0m \u001b[0mwrapper\u001b[0m\u001b[0;34m\u001b[0m\u001b[0;34m\u001b[0m\u001b[0m\n",
      "\u001b[0;32m/opt/anaconda3/lib/python3.9/site-packages/pandas/io/parsers/readers.py\u001b[0m in \u001b[0;36mread_csv\u001b[0;34m(filepath_or_buffer, sep, delimiter, header, names, index_col, usecols, squeeze, prefix, mangle_dupe_cols, dtype, engine, converters, true_values, false_values, skipinitialspace, skiprows, skipfooter, nrows, na_values, keep_default_na, na_filter, verbose, skip_blank_lines, parse_dates, infer_datetime_format, keep_date_col, date_parser, dayfirst, cache_dates, iterator, chunksize, compression, thousands, decimal, lineterminator, quotechar, quoting, doublequote, escapechar, comment, encoding, encoding_errors, dialect, error_bad_lines, warn_bad_lines, on_bad_lines, delim_whitespace, low_memory, memory_map, float_precision, storage_options)\u001b[0m\n\u001b[1;32m    676\u001b[0m     \u001b[0mkwds\u001b[0m\u001b[0;34m.\u001b[0m\u001b[0mupdate\u001b[0m\u001b[0;34m(\u001b[0m\u001b[0mkwds_defaults\u001b[0m\u001b[0;34m)\u001b[0m\u001b[0;34m\u001b[0m\u001b[0;34m\u001b[0m\u001b[0m\n\u001b[1;32m    677\u001b[0m \u001b[0;34m\u001b[0m\u001b[0m\n\u001b[0;32m--> 678\u001b[0;31m     \u001b[0;32mreturn\u001b[0m \u001b[0m_read\u001b[0m\u001b[0;34m(\u001b[0m\u001b[0mfilepath_or_buffer\u001b[0m\u001b[0;34m,\u001b[0m \u001b[0mkwds\u001b[0m\u001b[0;34m)\u001b[0m\u001b[0;34m\u001b[0m\u001b[0;34m\u001b[0m\u001b[0m\n\u001b[0m\u001b[1;32m    679\u001b[0m \u001b[0;34m\u001b[0m\u001b[0m\n\u001b[1;32m    680\u001b[0m \u001b[0;34m\u001b[0m\u001b[0m\n",
      "\u001b[0;32m/opt/anaconda3/lib/python3.9/site-packages/pandas/io/parsers/readers.py\u001b[0m in \u001b[0;36m_read\u001b[0;34m(filepath_or_buffer, kwds)\u001b[0m\n\u001b[1;32m    573\u001b[0m \u001b[0;34m\u001b[0m\u001b[0m\n\u001b[1;32m    574\u001b[0m     \u001b[0;31m# Create the parser.\u001b[0m\u001b[0;34m\u001b[0m\u001b[0;34m\u001b[0m\u001b[0m\n\u001b[0;32m--> 575\u001b[0;31m     \u001b[0mparser\u001b[0m \u001b[0;34m=\u001b[0m \u001b[0mTextFileReader\u001b[0m\u001b[0;34m(\u001b[0m\u001b[0mfilepath_or_buffer\u001b[0m\u001b[0;34m,\u001b[0m \u001b[0;34m**\u001b[0m\u001b[0mkwds\u001b[0m\u001b[0;34m)\u001b[0m\u001b[0;34m\u001b[0m\u001b[0;34m\u001b[0m\u001b[0m\n\u001b[0m\u001b[1;32m    576\u001b[0m \u001b[0;34m\u001b[0m\u001b[0m\n\u001b[1;32m    577\u001b[0m     \u001b[0;32mif\u001b[0m \u001b[0mchunksize\u001b[0m \u001b[0;32mor\u001b[0m \u001b[0miterator\u001b[0m\u001b[0;34m:\u001b[0m\u001b[0;34m\u001b[0m\u001b[0;34m\u001b[0m\u001b[0m\n",
      "\u001b[0;32m/opt/anaconda3/lib/python3.9/site-packages/pandas/io/parsers/readers.py\u001b[0m in \u001b[0;36m__init__\u001b[0;34m(self, f, engine, **kwds)\u001b[0m\n\u001b[1;32m    930\u001b[0m \u001b[0;34m\u001b[0m\u001b[0m\n\u001b[1;32m    931\u001b[0m         \u001b[0mself\u001b[0m\u001b[0;34m.\u001b[0m\u001b[0mhandles\u001b[0m\u001b[0;34m:\u001b[0m \u001b[0mIOHandles\u001b[0m \u001b[0;34m|\u001b[0m \u001b[0;32mNone\u001b[0m \u001b[0;34m=\u001b[0m \u001b[0;32mNone\u001b[0m\u001b[0;34m\u001b[0m\u001b[0;34m\u001b[0m\u001b[0m\n\u001b[0;32m--> 932\u001b[0;31m         \u001b[0mself\u001b[0m\u001b[0;34m.\u001b[0m\u001b[0m_engine\u001b[0m \u001b[0;34m=\u001b[0m \u001b[0mself\u001b[0m\u001b[0;34m.\u001b[0m\u001b[0m_make_engine\u001b[0m\u001b[0;34m(\u001b[0m\u001b[0mf\u001b[0m\u001b[0;34m,\u001b[0m \u001b[0mself\u001b[0m\u001b[0;34m.\u001b[0m\u001b[0mengine\u001b[0m\u001b[0;34m)\u001b[0m\u001b[0;34m\u001b[0m\u001b[0;34m\u001b[0m\u001b[0m\n\u001b[0m\u001b[1;32m    933\u001b[0m \u001b[0;34m\u001b[0m\u001b[0m\n\u001b[1;32m    934\u001b[0m     \u001b[0;32mdef\u001b[0m \u001b[0mclose\u001b[0m\u001b[0;34m(\u001b[0m\u001b[0mself\u001b[0m\u001b[0;34m)\u001b[0m\u001b[0;34m:\u001b[0m\u001b[0;34m\u001b[0m\u001b[0;34m\u001b[0m\u001b[0m\n",
      "\u001b[0;32m/opt/anaconda3/lib/python3.9/site-packages/pandas/io/parsers/readers.py\u001b[0m in \u001b[0;36m_make_engine\u001b[0;34m(self, f, engine)\u001b[0m\n\u001b[1;32m   1214\u001b[0m             \u001b[0;31m# \"Union[str, PathLike[str], ReadCsvBuffer[bytes], ReadCsvBuffer[str]]\"\u001b[0m\u001b[0;34m\u001b[0m\u001b[0;34m\u001b[0m\u001b[0m\n\u001b[1;32m   1215\u001b[0m             \u001b[0;31m# , \"str\", \"bool\", \"Any\", \"Any\", \"Any\", \"Any\", \"Any\"\u001b[0m\u001b[0;34m\u001b[0m\u001b[0;34m\u001b[0m\u001b[0m\n\u001b[0;32m-> 1216\u001b[0;31m             self.handles = get_handle(  # type: ignore[call-overload]\n\u001b[0m\u001b[1;32m   1217\u001b[0m                 \u001b[0mf\u001b[0m\u001b[0;34m,\u001b[0m\u001b[0;34m\u001b[0m\u001b[0;34m\u001b[0m\u001b[0m\n\u001b[1;32m   1218\u001b[0m                 \u001b[0mmode\u001b[0m\u001b[0;34m,\u001b[0m\u001b[0;34m\u001b[0m\u001b[0;34m\u001b[0m\u001b[0m\n",
      "\u001b[0;32m/opt/anaconda3/lib/python3.9/site-packages/pandas/io/common.py\u001b[0m in \u001b[0;36mget_handle\u001b[0;34m(path_or_buf, mode, encoding, compression, memory_map, is_text, errors, storage_options)\u001b[0m\n\u001b[1;32m    784\u001b[0m         \u001b[0;32mif\u001b[0m \u001b[0mioargs\u001b[0m\u001b[0;34m.\u001b[0m\u001b[0mencoding\u001b[0m \u001b[0;32mand\u001b[0m \u001b[0;34m\"b\"\u001b[0m \u001b[0;32mnot\u001b[0m \u001b[0;32min\u001b[0m \u001b[0mioargs\u001b[0m\u001b[0;34m.\u001b[0m\u001b[0mmode\u001b[0m\u001b[0;34m:\u001b[0m\u001b[0;34m\u001b[0m\u001b[0;34m\u001b[0m\u001b[0m\n\u001b[1;32m    785\u001b[0m             \u001b[0;31m# Encoding\u001b[0m\u001b[0;34m\u001b[0m\u001b[0;34m\u001b[0m\u001b[0m\n\u001b[0;32m--> 786\u001b[0;31m             handle = open(\n\u001b[0m\u001b[1;32m    787\u001b[0m                 \u001b[0mhandle\u001b[0m\u001b[0;34m,\u001b[0m\u001b[0;34m\u001b[0m\u001b[0;34m\u001b[0m\u001b[0m\n\u001b[1;32m    788\u001b[0m                 \u001b[0mioargs\u001b[0m\u001b[0;34m.\u001b[0m\u001b[0mmode\u001b[0m\u001b[0;34m,\u001b[0m\u001b[0;34m\u001b[0m\u001b[0;34m\u001b[0m\u001b[0m\n",
      "\u001b[0;31mFileNotFoundError\u001b[0m: [Errno 2] No such file or directory: 'RiyadhVillasAqar.csv'"
     ]
    }
   ],
   "source": [
    "data = pd.read_csv('RiyadhVillasAqar.csv',low_memory=False)"
   ]
  },
  {
   "cell_type": "code",
   "execution_count": null,
   "id": "f808c512",
   "metadata": {},
   "outputs": [],
   "source": [
    "df=data.copy()"
   ]
  },
  {
   "cell_type": "code",
   "execution_count": null,
   "id": "2b25c156",
   "metadata": {},
   "outputs": [],
   "source": [
    "df"
   ]
  },
  {
   "cell_type": "markdown",
   "id": "5dd71cb2",
   "metadata": {},
   "source": [
    "### drop uneeded columns"
   ]
  },
  {
   "cell_type": "code",
   "execution_count": null,
   "id": "c1f52663",
   "metadata": {},
   "outputs": [],
   "source": [
    "df.columns"
   ]
  },
  {
   "cell_type": "code",
   "execution_count": null,
   "id": "43f9019e",
   "metadata": {},
   "outputs": [],
   "source": [
    "df.drop(columns=['Unnamed: 0'],inplace=True)"
   ]
  },
  {
   "cell_type": "code",
   "execution_count": null,
   "id": "0b95794e",
   "metadata": {},
   "outputs": [],
   "source": [
    "df.columns"
   ]
  },
  {
   "cell_type": "code",
   "execution_count": null,
   "id": "98ceb049",
   "metadata": {},
   "outputs": [],
   "source": [
    "df.info()"
   ]
  },
  {
   "cell_type": "markdown",
   "id": "4b26dad8",
   "metadata": {},
   "source": [
    "### data describe"
   ]
  },
  {
   "cell_type": "code",
   "execution_count": null,
   "id": "42cdad24",
   "metadata": {},
   "outputs": [],
   "source": [
    "df.describe().T"
   ]
  },
  {
   "cell_type": "markdown",
   "id": "408af18d",
   "metadata": {},
   "source": [
    "### show unique value for every column"
   ]
  },
  {
   "cell_type": "code",
   "execution_count": null,
   "id": "2e983800",
   "metadata": {
    "scrolled": false
   },
   "outputs": [],
   "source": [
    "for i in df.columns:\n",
    "    print(i,\" : \" ,df[i].unique())"
   ]
  },
  {
   "cell_type": "markdown",
   "id": "033282d3",
   "metadata": {},
   "source": [
    "# Handel duplicated unique values "
   ]
  },
  {
   "cell_type": "code",
   "execution_count": null,
   "id": "3967a0d5",
   "metadata": {},
   "outputs": [],
   "source": [
    "def convert(x):\n",
    "    try:\n",
    "        new=float(x)\n",
    "        new=int(new)\n",
    "        new=str(new)\n",
    "        return new\n",
    "    except:\n",
    "        new=x\n",
    "        return new\n",
    "df['apartments']=df['apartments'].apply(convert)\n",
    "df['lounges']=df['lounges'].apply(convert)"
   ]
  },
  {
   "cell_type": "code",
   "execution_count": null,
   "id": "cf5b05be",
   "metadata": {},
   "outputs": [],
   "source": [
    "df['apartments'].unique()"
   ]
  },
  {
   "cell_type": "code",
   "execution_count": null,
   "id": "7637fc43",
   "metadata": {},
   "outputs": [],
   "source": [
    "df['lounges'].unique()"
   ]
  },
  {
   "cell_type": "markdown",
   "id": "cbe88492",
   "metadata": {},
   "source": [
    "# Handel missing value"
   ]
  },
  {
   "cell_type": "code",
   "execution_count": null,
   "id": "8bc81cce",
   "metadata": {},
   "outputs": [],
   "source": [
    "df.isna().sum()[df.isna().sum()>0]"
   ]
  },
  {
   "cell_type": "markdown",
   "id": "d1a2228f",
   "metadata": {},
   "source": [
    "### Street width column"
   ]
  },
  {
   "cell_type": "code",
   "execution_count": null,
   "id": "e74da8dd",
   "metadata": {},
   "outputs": [],
   "source": [
    "nul=df[df['streetWidth'].isna()]\n",
    "nul"
   ]
  },
  {
   "cell_type": "code",
   "execution_count": null,
   "id": "56a6d35b",
   "metadata": {},
   "outputs": [],
   "source": [
    "nul['front'].value_counts()"
   ]
  },
  {
   "cell_type": "code",
   "execution_count": null,
   "id": "59ea9f54",
   "metadata": {},
   "outputs": [],
   "source": [
    "px.histogram(df,x='streetWidth')"
   ]
  },
  {
   "cell_type": "code",
   "execution_count": null,
   "id": "f4b0e1e8",
   "metadata": {},
   "outputs": [],
   "source": [
    "def null_streatWidth(row):\n",
    "    mean=df[(df['neighbourhood'] == row['neighbourhood']) & ((df['square price'] <= row['square price']+300) & ((df['square price'] >= row['square price']-300))) & (df['streetWidth'].isna()==False) & ((df['front'] == row['front']))].mean()\n",
    "    return mean\n",
    "df.loc[nul.index,'streetWidth'] = df.loc[nul.index,:].apply(null_streatWidth,axis=1)"
   ]
  },
  {
   "cell_type": "code",
   "execution_count": null,
   "id": "fc016727",
   "metadata": {},
   "outputs": [],
   "source": [
    "px.histogram(df,x='streetWidth')"
   ]
  },
  {
   "cell_type": "markdown",
   "id": "1e98dbef",
   "metadata": {},
   "source": [
    "### square price  and price columns"
   ]
  },
  {
   "cell_type": "markdown",
   "id": "1f6d36c1",
   "metadata": {},
   "source": [
    "check if square price calculated correctlly"
   ]
  },
  {
   "cell_type": "code",
   "execution_count": null,
   "id": "6412a3b0",
   "metadata": {},
   "outputs": [],
   "source": [
    "def trueSquer(row):\n",
    "    squer=row['price']/row['space']\n",
    "    return squer\n",
    "df['true squre']=df.apply(trueSquer,axis=1)"
   ]
  },
  {
   "cell_type": "code",
   "execution_count": null,
   "id": "bd1df838",
   "metadata": {},
   "outputs": [],
   "source": [
    "df[round(df['square price']) != round(df['true squre'])]"
   ]
  },
  {
   "cell_type": "code",
   "execution_count": null,
   "id": "a0f16620",
   "metadata": {},
   "outputs": [],
   "source": [
    "nul=df[df['square price'].isna()]\n",
    "nul"
   ]
  },
  {
   "cell_type": "code",
   "execution_count": null,
   "id": "cdb0d570",
   "metadata": {},
   "outputs": [],
   "source": [
    "px.histogram(df,x='square price')"
   ]
  },
  {
   "cell_type": "code",
   "execution_count": null,
   "id": "b988198d",
   "metadata": {},
   "outputs": [],
   "source": [
    "px.histogram(df,x='price')"
   ]
  },
  {
   "cell_type": "code",
   "execution_count": null,
   "id": "bc2a7baa",
   "metadata": {},
   "outputs": [],
   "source": [
    "def null_squer_price(row):\n",
    "    mean=df[(df['neighbourhood'] == row['neighbourhood']) & (df['space'] == row['space']) & (df['elevator'] == row['elevator'])]['square price'].mean()\n",
    "    return mean\n",
    "df.loc[nul.index,'square price'] = df.loc[nul.index,:].apply(null_squer_price,axis=1)\n",
    "df.loc[nul.index,'price'] = df.loc[nul.index,'square price']*df.loc[nul.index,'space']"
   ]
  },
  {
   "cell_type": "markdown",
   "id": "817c8afa",
   "metadata": {},
   "source": [
    "### lounges column"
   ]
  },
  {
   "cell_type": "code",
   "execution_count": null,
   "id": "695244b2",
   "metadata": {},
   "outputs": [],
   "source": [
    "df['lounges'].unique()"
   ]
  },
  {
   "cell_type": "code",
   "execution_count": null,
   "id": "8c5759fa",
   "metadata": {},
   "outputs": [],
   "source": [
    "px.histogram(df,x='lounges')"
   ]
  },
  {
   "cell_type": "code",
   "execution_count": null,
   "id": "eca898a5",
   "metadata": {},
   "outputs": [],
   "source": [
    "df['lounges'].fillna(0,inplace=True)"
   ]
  },
  {
   "cell_type": "code",
   "execution_count": null,
   "id": "40584922",
   "metadata": {},
   "outputs": [],
   "source": [
    "px.histogram(df,x='lounges')"
   ]
  },
  {
   "cell_type": "markdown",
   "id": "e26b872b",
   "metadata": {},
   "source": [
    "# handel outliers"
   ]
  },
  {
   "cell_type": "code",
   "execution_count": null,
   "id": "f2ce1731",
   "metadata": {},
   "outputs": [],
   "source": [
    "df.info()"
   ]
  },
  {
   "cell_type": "code",
   "execution_count": null,
   "id": "b22be2db",
   "metadata": {},
   "outputs": [],
   "source": [
    "px.box(df[['rooms','propertyAge']])"
   ]
  },
  {
   "cell_type": "code",
   "execution_count": null,
   "id": "75ae7338",
   "metadata": {},
   "outputs": [],
   "source": [
    "px.box(df['price'])"
   ]
  },
  {
   "cell_type": "code",
   "execution_count": null,
   "id": "28f5f567",
   "metadata": {},
   "outputs": [],
   "source": [
    "px.box(df['square price'])"
   ]
  },
  {
   "cell_type": "code",
   "execution_count": null,
   "id": "d21e3e79",
   "metadata": {},
   "outputs": [],
   "source": [
    "px.box(df['space'])"
   ]
  },
  {
   "cell_type": "markdown",
   "id": "0ec77739",
   "metadata": {},
   "source": [
    "### check duplicated"
   ]
  },
  {
   "cell_type": "code",
   "execution_count": null,
   "id": "509fa9f1",
   "metadata": {},
   "outputs": [],
   "source": [
    "df.duplicated().sum()"
   ]
  },
  {
   "cell_type": "markdown",
   "id": "af0ee60e",
   "metadata": {},
   "source": [
    "### data shape"
   ]
  },
  {
   "cell_type": "code",
   "execution_count": null,
   "id": "0b2fd6a6",
   "metadata": {},
   "outputs": [],
   "source": [
    "df.shape"
   ]
  },
  {
   "cell_type": "markdown",
   "id": "02bf7e10",
   "metadata": {},
   "source": [
    "### correlation matrix"
   ]
  },
  {
   "cell_type": "code",
   "execution_count": null,
   "id": "e1b50572",
   "metadata": {},
   "outputs": [],
   "source": [
    "df.corr()"
   ]
  },
  {
   "cell_type": "markdown",
   "id": "f95ba1a0",
   "metadata": {},
   "source": [
    "# enter your code"
   ]
  },
  {
   "cell_type": "code",
   "execution_count": null,
   "id": "55c9fd00",
   "metadata": {},
   "outputs": [],
   "source": [
    "df1 = pd.DataFrame(columns=['location','propertyAge','avg price'])\n",
    "location= df['location'].unique()\n",
    "property_age=df['propertyAge'].unique()\n",
    "for i in location:\n",
    "    for j in property_age: \n",
    "        m1 =(df['propertyAge']==j) & (df['location']==i)\n",
    "        list1=[i,j,df.loc[m1,'price'].mean()]\n",
    "        df1.loc[len(df1)] =list1"
   ]
  },
  {
   "cell_type": "code",
   "execution_count": null,
   "id": "7983ea69",
   "metadata": {},
   "outputs": [],
   "source": [
    "df1"
   ]
  },
  {
   "cell_type": "code",
   "execution_count": null,
   "id": "495d7946",
   "metadata": {
    "scrolled": false
   },
   "outputs": [],
   "source": [
    "fig = px.bar(x=df1['propertyAge'],y=df1['avg price'],color=df1['location'])\n",
    "fig.update_layout(\n",
    "    xaxis_title=\"Property Age\", yaxis_title=\"Average price\")\n",
    "\n",
    "fig.show()"
   ]
  },
  {
   "cell_type": "code",
   "execution_count": null,
   "id": "3c84c2b7",
   "metadata": {},
   "outputs": [],
   "source": [
    "df"
   ]
  },
  {
   "cell_type": "code",
   "execution_count": null,
   "id": "818f260a",
   "metadata": {},
   "outputs": [],
   "source": [
    "import math\n",
    "twi_dim=[[1,1,1],[1,1,0],[1,0,1],[1,0,0],[0,1,1],[0,1,0],[0,0,1],[0,0,0]]\n",
    "Availability_list = ['with (basement,pool,elevator)','with (basement,pool)','with (basement,elevator)','with (basement)','with (pool,elevator)','with (pool)','with (elevator)','without (basement,pool,elevator)']\n",
    "df2= pd.DataFrame(columns=['location','Availability','average price','number of property'])\n",
    "list2=[]\n",
    "for i in location:\n",
    "    for j in range(len(twi_dim)):\n",
    "        dfnew =df[(df['basement']==twi_dim[j][0]) &(df['pool']==twi_dim[j][1]) & (df['elevator']==twi_dim[j][2]) &(df['location']==i)]['price']\n",
    "        mean1=dfnew.mean()\n",
    "        if not math.isnan(mean1):\n",
    "            list2=[i,Availability_list[j],int(mean1),len(dfnew)]\n",
    "        else:\n",
    "            list2=[i,Availability_list[j],mean1,len(dfnew)]\n",
    "        df2.loc[len(df2)] =list2"
   ]
  },
  {
   "cell_type": "code",
   "execution_count": null,
   "id": "b2e0803c",
   "metadata": {},
   "outputs": [],
   "source": [
    "df2"
   ]
  },
  {
   "cell_type": "code",
   "execution_count": null,
   "id": "a56de4ea",
   "metadata": {
    "scrolled": false
   },
   "outputs": [],
   "source": [
    "fig = px.sunburst(df2, path=['Availability', 'location', 'average price'], values='number of property')\n",
    "fig.show()"
   ]
  },
  {
   "cell_type": "code",
   "execution_count": null,
   "id": "ee18f4c4",
   "metadata": {},
   "outputs": [],
   "source": [
    "fig = px.bar(x=df2['Availability'],y=df2['average price'],color=df2['location'],barmode=\"group\")\n",
    "fig.update_layout(\n",
    "    xaxis_title=\"Availability of pool, basement and elevator\", yaxis_title=\"Average price\")\n",
    "\n",
    "fig.show()"
   ]
  },
  {
   "cell_type": "code",
   "execution_count": null,
   "id": "6f02e66b",
   "metadata": {},
   "outputs": [],
   "source": []
  }
 ],
 "metadata": {
  "kernelspec": {
   "display_name": "Python 3 (ipykernel)",
   "language": "python",
   "name": "python3"
  },
  "language_info": {
   "codemirror_mode": {
    "name": "ipython",
    "version": 3
   },
   "file_extension": ".py",
   "mimetype": "text/x-python",
   "name": "python",
   "nbconvert_exporter": "python",
   "pygments_lexer": "ipython3",
   "version": "3.8.10"
  }
 },
 "nbformat": 4,
 "nbformat_minor": 5
}
